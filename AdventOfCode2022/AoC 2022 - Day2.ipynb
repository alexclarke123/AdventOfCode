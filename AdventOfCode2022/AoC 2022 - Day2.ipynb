{
 "cells": [
  {
   "cell_type": "code",
   "execution_count": 8,
   "metadata": {},
   "outputs": [],
   "source": [
    "from os import read\n",
    "import re\n",
    "import pandas"
   ]
  },
  {
   "cell_type": "code",
   "execution_count": 6,
   "metadata": {},
   "outputs": [],
   "source": [
    "inputFile2 = \"InputDay2.txt\""
   ]
  },
  {
   "cell_type": "code",
   "execution_count": 61,
   "metadata": {},
   "outputs": [
    {
     "data": {
      "text/plain": [
       "11063"
      ]
     },
     "metadata": {},
     "output_type": "display_data"
    }
   ],
   "source": [
    "# Part 1\n",
    "\n",
    "# Rock = A and X\n",
    "# Paper = B and Y\n",
    "# Scissors = C and Z \n",
    "\n",
    "shapeDict = {'X':'1','Y':'2','Z':'3'}\n",
    "roundWinDict = {'AX': 3, 'AY':6, 'AZ':0, 'BX':0 , 'BY':3, 'BZ':6, 'CX':6, 'CY':0, 'CZ':3}\n",
    "\n",
    "dfGame = pandas.read_csv(inputFile2, delimiter=\" \", header=None, dtype={1: str, 0: str})\n",
    "\n",
    "dfGame['shape_points'] = dfGame[1].map(shapeDict).astype(int)\n",
    "dfGame['round_points'] = (dfGame[0] + dfGame[1]).map(roundWinDict).astype(int)\n",
    "dfGame['total_points'] = dfGame['shape_points'] + dfGame['round_points']\n",
    "\n",
    "display(sum(dfGame['total_points']))\n"
   ]
  },
  {
   "cell_type": "code",
   "execution_count": 67,
   "metadata": {},
   "outputs": [
    {
     "data": {
      "text/plain": [
       "10349"
      ]
     },
     "metadata": {},
     "output_type": "display_data"
    }
   ],
   "source": [
    "# Part 2\n",
    "\n",
    "# Rock = A     \n",
    "# Paper = B\n",
    "# Scissors = C \n",
    "# X = Lose i.e.  AX: Rock, play Scissors (3 point) , BX: Paper, play Rock (1 point), CX: Scissors, play Paper (2 points)\n",
    "# Y = Draw i.e AY: play Rock (1 point) BY: play Paper (2 points) CY: play Scissors (3 points) \n",
    "# Z = Win i.e. AZ: 2 points BZ: 3 points CZ: 1 point\n",
    "\n",
    "resultDict = {'X':'0','Y':'3','Z':'6'}\n",
    "roundShapeDict = {'AX': 3, 'AY':1, 'AZ':2, 'BX':1 , 'BY':2, 'BZ':3, 'CX':2, 'CY':3, 'CZ':1}\n",
    "\n",
    "dfGame = pandas.read_csv(inputFile2, delimiter=\" \", header=None, dtype={1: str, 0: str})\n",
    "\n",
    "dfGame['round_points'] = dfGame[1].map(resultDict).astype(int)\n",
    "dfGame['shape_points'] = (dfGame[0] + dfGame[1]).map(roundShapeDict).astype(int)\n",
    "dfGame['total_points'] = dfGame['shape_points'] + dfGame['round_points']\n",
    "\n",
    "dfGame.head(5)\n",
    "display(sum(dfGame['total_points']))\n"
   ]
  }
 ],
 "metadata": {
  "kernelspec": {
   "display_name": "Python 3.10.1 64-bit",
   "language": "python",
   "name": "python3"
  },
  "language_info": {
   "codemirror_mode": {
    "name": "ipython",
    "version": 3
   },
   "file_extension": ".py",
   "mimetype": "text/x-python",
   "name": "python",
   "nbconvert_exporter": "python",
   "pygments_lexer": "ipython3",
   "version": "3.10.1"
  },
  "orig_nbformat": 4,
  "vscode": {
   "interpreter": {
    "hash": "d0d8f4ad52842acb1bd88b5e4d5a3e855ffe6009d6de89734aac6954d5696bda"
   }
  }
 },
 "nbformat": 4,
 "nbformat_minor": 2
}
