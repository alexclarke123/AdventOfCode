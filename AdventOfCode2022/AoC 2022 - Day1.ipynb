{
 "cells": [
  {
   "cell_type": "code",
   "execution_count": 11,
   "metadata": {},
   "outputs": [],
   "source": [
    "from os import read\n",
    "import re\n",
    "\n",
    "import pandas"
   ]
  },
  {
   "cell_type": "code",
   "execution_count": 12,
   "metadata": {},
   "outputs": [],
   "source": [
    "inputFile = \"InputDay1.txt\"\n"
   ]
  },
  {
   "cell_type": "code",
   "execution_count": 70,
   "metadata": {},
   "outputs": [
    {
     "data": {
      "text/plain": [
       "72478"
      ]
     },
     "metadata": {},
     "output_type": "display_data"
    }
   ],
   "source": [
    "# Part 1\n",
    "\n",
    "calorieList = []\n",
    "sumList = []\n",
    "n = 0\n",
    "\n",
    "#loop through lines and add numbers until a blank is reached. Add the total to the list, and then continue loop\n",
    "\n",
    "with open(\"InputDay1.txt\" , 'r') as f:\n",
    "        \n",
    "        for line in f:\n",
    "            line_data = re.split('\\n', line)\n",
    "            itemLen = len(line_data[0])\n",
    "\n",
    "            if(itemLen > 0):\n",
    "                n = n + int(line_data[0])\n",
    "            else:\n",
    "                calorieList.append(n)\n",
    "                n = 0 \n",
    "\n",
    "display(max(calorieList))"
   ]
  },
  {
   "cell_type": "code",
   "execution_count": 71,
   "metadata": {},
   "outputs": [
    {
     "data": {
      "text/plain": [
       "[72478, 69003, 68886]"
      ]
     },
     "metadata": {},
     "output_type": "display_data"
    },
    {
     "data": {
      "text/plain": [
       "210367"
      ]
     },
     "metadata": {},
     "output_type": "display_data"
    }
   ],
   "source": [
    "# Part 2\n",
    "# firstly, re-run Part1\n",
    "\n",
    "topN = 3\n",
    "topNList = []\n",
    "\n",
    "for i in range(0, topN):\n",
    " topNList.append(max(calorieList))\n",
    " calorieList.remove(max(calorieList))\n",
    "\n",
    "display(topNList)\n",
    "display(sum(topNList))"
   ]
  }
 ],
 "metadata": {
  "kernelspec": {
   "display_name": "Python 3.10.1 64-bit",
   "language": "python",
   "name": "python3"
  },
  "language_info": {
   "codemirror_mode": {
    "name": "ipython",
    "version": 3
   },
   "file_extension": ".py",
   "mimetype": "text/x-python",
   "name": "python",
   "nbconvert_exporter": "python",
   "pygments_lexer": "ipython3",
   "version": "3.10.1"
  },
  "orig_nbformat": 4,
  "vscode": {
   "interpreter": {
    "hash": "d0d8f4ad52842acb1bd88b5e4d5a3e855ffe6009d6de89734aac6954d5696bda"
   }
  }
 },
 "nbformat": 4,
 "nbformat_minor": 2
}
